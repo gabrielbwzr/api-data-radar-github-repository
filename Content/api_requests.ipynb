{
  "nbformat": 4,
  "nbformat_minor": 0,
  "metadata": {
    "colab": {
      "provenance": []
    },
    "kernelspec": {
      "name": "python3",
      "display_name": "Python 3"
    },
    "language_info": {
      "name": "python"
    }
  },
  "cells": [
    {
      "cell_type": "markdown",
      "source": [
        "##**GitHub API Data Extraction**\n",
        "This notebook demonstrates how to authenticate, extract, and handle data from the GitHub REST API v3 for the public repository `josephmisiti/awesome-machine-learning`."
      ],
      "metadata": {
        "id": "NnowDy20bqJ6"
      }
    },
    {
      "cell_type": "markdown",
      "source": [
        "# **1. Authentication setup**"
      ],
      "metadata": {
        "id": "L0_TjlmKcCCI"
      }
    },
    {
      "cell_type": "code",
      "execution_count": 27,
      "metadata": {
        "id": "X1bzmS0NUXzT",
        "colab": {
          "base_uri": "https://localhost:8080/"
        },
        "outputId": "29e7247c-18d0-4995-bcce-d37b326bf4bc"
      },
      "outputs": [
        {
          "output_type": "stream",
          "name": "stdout",
          "text": [
            "Enter your github token:··········\n",
            "Unauthorized. Please check your token.\n"
          ]
        }
      ],
      "source": [
        "import requests\n",
        "from getpass import getpass\n",
        "import time\n",
        "\n",
        "# Prompt for GitHub token securely\n",
        "GITHUB_TOKEN = getpass(\"Enter your github token:\")\n",
        "HEADERS = {\n",
        "    \"Authorization\": f\"token {GITHUB_TOKEN}\",\n",
        "    \"Accept\": \"application/vnd.github.v3+json\"\n",
        "}\n",
        "\n",
        "def verify_token():\n",
        "    test_url = \"https://api.github.com/user\"\n",
        "    response = requests.get(test_url, headers=HEADERS)\n",
        "    if response.status_code == 200:\n",
        "        print(\"Authorized. Token is valid.\")\n",
        "        return True\n",
        "    elif response.status_code == 401:\n",
        "        print(\"Unauthorized. Please check your token.\")\n",
        "        return False\n",
        "    else:\n",
        "        print(f\"Unexpected error: {response.status_code}\")\n",
        "        return False\n",
        "verify_token()\n",
        "\n",
        "REPO_OWNER = \"josephmisiti\"\n",
        "REPO_NAME = \"awesome-machine-learning\"\n",
        "BASE_URL = f\"https://api.github.com/repos/{REPO_OWNER}/{REPO_NAME}\"\n",
        "\n"
      ]
    },
    {
      "cell_type": "markdown",
      "source": [
        "#**2. Repository information**"
      ],
      "metadata": {
        "id": "eKkVcI3E9KJH"
      }
    },
    {
      "cell_type": "code",
      "source": [
        "def get_repo_info():\n",
        "    url = BASE_URL\n",
        "    response = requests.get(url, headers=HEADERS)\n",
        "    return response.json()\n",
        "\n",
        "repo_info = get_repo_info()\n",
        "print(\"Repository name:\", repo_info[\"full_name\"])\n",
        "print(\"Stars:\", repo_info[\"stargazers_count\"])\n",
        "print(\"Forks:\", repo_info[\"forks_count\"])\n",
        "print(\"Created at:\", repo_info[\"created_at\"])\n"
      ],
      "metadata": {
        "colab": {
          "base_uri": "https://localhost:8080/"
        },
        "id": "rqi3Zhi37wF6",
        "outputId": "7c27d554-cbee-4554-bd17-26935685326e"
      },
      "execution_count": 21,
      "outputs": [
        {
          "output_type": "stream",
          "name": "stdout",
          "text": [
            "Repository name: josephmisiti/awesome-machine-learning\n",
            "Stars: 68678\n",
            "Forks: 14974\n",
            "Created at: 2014-07-15T19:11:19Z\n"
          ]
        }
      ]
    },
    {
      "cell_type": "markdown",
      "source": [
        "#**3. Commits with pagination**"
      ],
      "metadata": {
        "id": "piwZKSyDY9qa"
      }
    },
    {
      "cell_type": "code",
      "source": [
        "def get_commits(per_page=100, max_pages=2):\n",
        "    commits = []\n",
        "    for page in range(1, max_pages + 1):\n",
        "        url = f\"{BASE_URL}/commits?per_page={per_page}&page={page}\"\n",
        "        response = requests.get(url, headers=HEADERS)\n",
        "        if response.status_code != 200:\n",
        "            print(\"Error on page\", page, \"-\", response.status_code)\n",
        "            break\n",
        "        commits_page = response.json()\n",
        "        if not commits_page:\n",
        "            break\n",
        "        commits.extend(commits_page)\n",
        "        print(f\"Page {page}: {len(commits_page)} commits\")\n",
        "    return commits\n",
        "\n",
        "commits = get_commits()\n",
        "print(\"Total commits retrieved:\", len(commits))\n",
        "if commits:\n",
        "    print(\"Sample commit message:\", commits[0][\"commit\"][\"message\"])\n"
      ],
      "metadata": {
        "colab": {
          "base_uri": "https://localhost:8080/"
        },
        "id": "FGbcuUvkY7eu",
        "outputId": "6d0007f5-aed2-44be-b2b3-032da6a14beb"
      },
      "execution_count": 22,
      "outputs": [
        {
          "output_type": "stream",
          "name": "stdout",
          "text": [
            "Page 1: 100 commits\n",
            "Page 2: 100 commits\n",
            "Total commits retrieved: 200\n",
            "Sample commit message: Merge pull request #1051 from Morgan-Sell/master\n",
            "\n",
            "Add \"Python Feature Engineering Cookbook\" to the ML section on books.md\n"
          ]
        }
      ]
    },
    {
      "cell_type": "markdown",
      "source": [
        "#**4. Repository contents**"
      ],
      "metadata": {
        "id": "EjaTHwgoZaBK"
      }
    },
    {
      "cell_type": "code",
      "source": [
        "def get_contents(path=\"\"):\n",
        "    url = f\"{BASE_URL}/contents/{path}\"\n",
        "    response = requests.get(url, headers=HEADERS)\n",
        "    return response.json()\n",
        "\n",
        "contents = get_contents()\n",
        "print(\"Root directory content:\")\n",
        "for item in contents:\n",
        "    print(\"-\", item[\"name\"], \"(type:\", item[\"type\"] + \")\")"
      ],
      "metadata": {
        "colab": {
          "base_uri": "https://localhost:8080/"
        },
        "id": "Y-ZVGIU5ZYgV",
        "outputId": "835a2a01-d987-444c-f3de-38b64e6d6ea2"
      },
      "execution_count": 23,
      "outputs": [
        {
          "output_type": "stream",
          "name": "stdout",
          "text": [
            "Root directory content:\n",
            "- LICENSE (type: file)\n",
            "- README.md (type: file)\n",
            "- blogs.md (type: file)\n",
            "- books.md (type: file)\n",
            "- courses.md (type: file)\n",
            "- events.md (type: file)\n",
            "- meetups.md (type: file)\n",
            "- ml-curriculum.md (type: file)\n",
            "- scripts (type: dir)\n"
          ]
        }
      ]
    },
    {
      "cell_type": "markdown",
      "source": [
        "#**5. Rate limit status**"
      ],
      "metadata": {
        "id": "nuyTfwnS3pKG"
      }
    },
    {
      "cell_type": "code",
      "source": [
        "def check_rate_limit():\n",
        "    url = \"https://api.github.com/rate_limit\"\n",
        "    response = requests.get(url, headers=HEADERS)\n",
        "    if response.status_code == 200:\n",
        "        data = response.json()\n",
        "        print(\"Remaining requests:\", data['rate']['remaining'])\n",
        "        print(\"Rate limit resets at:\", data['rate']['reset'])\n",
        "    else:\n",
        "        print(\"Failed to retrieve rate limit status.\")\n",
        "\n",
        "check_rate_limit()"
      ],
      "metadata": {
        "colab": {
          "base_uri": "https://localhost:8080/"
        },
        "id": "VcFrzmTF3xj3",
        "outputId": "c6e386dc-5a46-4872-e0b7-47b7f310bdd7"
      },
      "execution_count": 24,
      "outputs": [
        {
          "output_type": "stream",
          "name": "stdout",
          "text": [
            "Remaining requests: 4986\n",
            "Rate limit resets at: 1751059319\n"
          ]
        }
      ]
    },
    {
      "cell_type": "markdown",
      "source": [
        "## **6. Retry with exponential backoff**"
      ],
      "metadata": {
        "id": "CjwbW6k2Docb"
      }
    },
    {
      "cell_type": "code",
      "source": [
        "def safe_get(url, max_retries=3):\n",
        "    delay = 1\n",
        "    for attempt in range(max_retries):\n",
        "        response = requests.get(url, headers=HEADERS)\n",
        "        if response.status_code == 200:\n",
        "            return response\n",
        "        elif response.status_code >= 500:\n",
        "            print(f\"Server error {response.status_code}, retrying in {delay} seconds...\")\n",
        "            time.sleep(delay)\n",
        "            delay *= 2\n",
        "        else:\n",
        "            print(f\"Request failed with status {response.status_code}\")\n",
        "            return response\n",
        "    print(\"Max retries exceeded.\")\n",
        "    return None"
      ],
      "metadata": {
        "id": "xJnK3oUtDvfL"
      },
      "execution_count": 25,
      "outputs": []
    },
    {
      "cell_type": "markdown",
      "source": [
        "#**7. Easy error handling example**"
      ],
      "metadata": {
        "id": "WYP7h4PjZvSJ"
      }
    },
    {
      "cell_type": "code",
      "source": [
        "def get_repo_info_safe():\n",
        "    url = BASE_URL\n",
        "    response = requests.get(url, headers=HEADERS)\n",
        "    if response.status_code == 200:\n",
        "        return response.json()\n",
        "    elif response.status_code == 401:\n",
        "        print(\"Unauthorized: Check your GitHub token.\")\n",
        "    elif response.status_code == 403:\n",
        "        print(\"Rate limit exceeded. Try again later.\")\n",
        "    else:\n",
        "        print(f\"Error {response.status_code}: {response.text}\")\n",
        "    return None\n",
        "\n",
        "# Call and print result only if successful\n",
        "repo_info = get_repo_info_safe()\n",
        "if repo_info:\n",
        "    print(\"Repository name:\", repo_info[\"full_name\"])\n",
        "    print(\"Stars:\", repo_info[\"stargazers_count\"])\n",
        "    print(\"Forks:\", repo_info[\"forks_count\"])\n",
        "    print(\"Created at:\", repo_info[\"created_at\"])"
      ],
      "metadata": {
        "id": "IGHC856bZ1ys",
        "colab": {
          "base_uri": "https://localhost:8080/"
        },
        "outputId": "9b2ddea9-b10c-4434-a026-5d2fc437fb0c"
      },
      "execution_count": 26,
      "outputs": [
        {
          "output_type": "stream",
          "name": "stdout",
          "text": [
            "Repository name: josephmisiti/awesome-machine-learning\n",
            "Stars: 68678\n",
            "Forks: 14974\n",
            "Created at: 2014-07-15T19:11:19Z\n"
          ]
        }
      ]
    }
  ]
}
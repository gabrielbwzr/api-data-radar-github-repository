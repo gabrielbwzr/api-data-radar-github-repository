{
  "nbformat": 4,
  "nbformat_minor": 0,
  "metadata": {
    "colab": {
      "provenance": []
    },
    "kernelspec": {
      "name": "python3",
      "display_name": "Python 3"
    },
    "language_info": {
      "name": "python"
    }
  },
  "cells": [
    {
      "cell_type": "markdown",
      "source": [
        "##**GitHub API Data Extraction**\n",
        "This notebook demonstrates how to authenticate, extract, and handle data from the GitHub REST API v3 for the public repository `josephmisiti/awesome-machine-learning`."
      ],
      "metadata": {
        "id": "NnowDy20bqJ6"
      }
    },
    {
      "cell_type": "markdown",
      "source": [
        "# **1. Authentication with github token**"
      ],
      "metadata": {
        "id": "L0_TjlmKcCCI"
      }
    },
    {
      "cell_type": "code",
      "execution_count": 13,
      "metadata": {
        "id": "X1bzmS0NUXzT"
      },
      "outputs": [],
      "source": [
        "\n",
        "import requests\n",
        "GITHUB_TOKEN = \"PUT_YOUR_TOKEN\"\n",
        "#You have to replace PUT_YOUR_TOKEN with your real token at github\n",
        "HEADERS = {\n",
        "    \"Authorization\": f\"token {GITHUB_TOKEN}\",\n",
        "    \"Accept\": \"application/vnd.github.v3+json\"\n",
        "}\n",
        "\n",
        "REPO_OWNER = \"josephmisiti\"\n",
        "REPO_NAME = \"awesome-machine-learning\"\n",
        "BASE_URL = f\"https://api.github.com/repos/{REPO_OWNER}/{REPO_NAME}\"\n",
        "\n"
      ]
    },
    {
      "cell_type": "markdown",
      "source": [
        "#**2. Repository information**"
      ],
      "metadata": {
        "id": "eKkVcI3E9KJH"
      }
    },
    {
      "cell_type": "code",
      "source": [
        "def get_repo_info():\n",
        "    url = BASE_URL\n",
        "    response = requests.get(url, headers=HEADERS)\n",
        "    return response.json()\n",
        "\n",
        "repo_info = get_repo_info()\n",
        "print(\"Repository name:\", repo_info[\"full_name\"])\n",
        "print(\"Stars:\", repo_info[\"stargazers_count\"])\n",
        "print(\"Forks:\", repo_info[\"forks_count\"])\n",
        "print(\"Created at:\", repo_info[\"created_at\"])\n"
      ],
      "metadata": {
        "colab": {
          "base_uri": "https://localhost:8080/"
        },
        "id": "rqi3Zhi37wF6",
        "outputId": "35f264d8-e689-45e1-f8f0-c9e6b5b51cce"
      },
      "execution_count": 8,
      "outputs": [
        {
          "output_type": "stream",
          "name": "stdout",
          "text": [
            "Repository name: josephmisiti/awesome-machine-learning\n",
            "Stars: 68647\n",
            "Forks: 14973\n",
            "Created at: 2014-07-15T19:11:19Z\n"
          ]
        }
      ]
    },
    {
      "cell_type": "markdown",
      "source": [
        "#**3. Get commits (with pagination)**"
      ],
      "metadata": {
        "id": "piwZKSyDY9qa"
      }
    },
    {
      "cell_type": "code",
      "source": [
        "def get_commits(per_page=100, max_pages=2):\n",
        "    commits = []\n",
        "    for page in range(1, max_pages + 1):\n",
        "        url = f\"{BASE_URL}/commits?per_page={per_page}&page={page}\"\n",
        "        response = requests.get(url, headers=HEADERS)\n",
        "        if response.status_code != 200:\n",
        "            print(\"Failed at page\", page)\n",
        "            break\n",
        "        commits.extend(response.json())\n",
        "    return commits\n",
        "\n",
        "commits = get_commits()\n",
        "print(\"Total commits retrieved:\", len(commits))\n",
        "print(\"Sample commit message:\", commits[0][\"commit\"][\"message\"])\n"
      ],
      "metadata": {
        "colab": {
          "base_uri": "https://localhost:8080/"
        },
        "id": "FGbcuUvkY7eu",
        "outputId": "e5e0d5eb-d62f-43f2-c028-bb5a220dc589"
      },
      "execution_count": 9,
      "outputs": [
        {
          "output_type": "stream",
          "name": "stdout",
          "text": [
            "Total commits retrieved: 200\n",
            "Sample commit message: Merge pull request #1051 from Morgan-Sell/master\n",
            "\n",
            "Add \"Python Feature Engineering Cookbook\" to the ML section on books.md\n"
          ]
        }
      ]
    },
    {
      "cell_type": "markdown",
      "source": [
        "#**4. Get repository contents**"
      ],
      "metadata": {
        "id": "EjaTHwgoZaBK"
      }
    },
    {
      "cell_type": "code",
      "source": [
        "def get_contents(path=\"\"):\n",
        "    url = f\"{BASE_URL}/contents/{path}\"\n",
        "    response = requests.get(url, headers=HEADERS)\n",
        "    return response.json()\n",
        "\n",
        "contents = get_contents()\n",
        "print(\"Root directory content:\")\n",
        "for item in contents:\n",
        "    print(\"-\", item[\"name\"], \"(type:\", item[\"type\"] + \")\")"
      ],
      "metadata": {
        "colab": {
          "base_uri": "https://localhost:8080/"
        },
        "id": "Y-ZVGIU5ZYgV",
        "outputId": "ba2dde5f-07a9-47ab-8a2a-821d298ff709"
      },
      "execution_count": 10,
      "outputs": [
        {
          "output_type": "stream",
          "name": "stdout",
          "text": [
            "Root directory content:\n",
            "- LICENSE (type: file)\n",
            "- README.md (type: file)\n",
            "- blogs.md (type: file)\n",
            "- books.md (type: file)\n",
            "- courses.md (type: file)\n",
            "- events.md (type: file)\n",
            "- meetups.md (type: file)\n",
            "- ml-curriculum.md (type: file)\n",
            "- scripts (type: dir)\n"
          ]
        }
      ]
    },
    {
      "cell_type": "markdown",
      "source": [
        "#**5. Error handling example**"
      ],
      "metadata": {
        "id": "WYP7h4PjZvSJ"
      }
    },
    {
      "cell_type": "code",
      "source": [
        "def get_repo_info_safe():\n",
        "    url = BASE_URL\n",
        "    response = requests.get(url, headers=HEADERS)\n",
        "    if response.status_code == 200:\n",
        "        return response.json()\n",
        "    elif response.status_code == 401:\n",
        "        print(\"Unauthorized: Check your token\")\n",
        "    elif response.status_code == 403:\n",
        "        print(\"Rate limit exceeded\")\n",
        "    else:\n",
        "        print(\"Error\", response.status_code)\n",
        "    return None\n",
        "\n",
        "repo_info_safe = get_repo_info_safe()"
      ],
      "metadata": {
        "id": "IGHC856bZ1ys"
      },
      "execution_count": 11,
      "outputs": []
    }
  ]
}